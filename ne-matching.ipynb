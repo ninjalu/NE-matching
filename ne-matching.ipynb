{
 "cells": [
  {
   "cell_type": "code",
   "execution_count": 1,
   "metadata": {},
   "outputs": [],
   "source": [
    "import pandas as pd\n",
    "import numpy as np\n",
    "from module import *"
   ]
  },
  {
   "cell_type": "markdown",
   "metadata": {},
   "source": [
    "### First look at the data:\n",
    "By scanning through the company names on both csv files, there are following observations:\n",
    "The matching could have these issues:\n",
    "1. Varying ways to refer to a company: limited, ltd, plt, corp, inc, co., etc.\n",
    "2. Acronyms \n",
    "3. White spaces\n",
    "4. Reordered names\n",
    "5. Some names can have completely different synonyms: i.e. Howmet Aerospace Inc and Arconic. Meaning combining name and synonyms could be helpful.\n"
   ]
  },
  {
   "cell_type": "markdown",
   "metadata": {},
   "source": [
    "### I. Standardise the data:\n",
    "Standised the data: remove '.', transform into lower case, remove stop words."
   ]
  },
  {
   "cell_type": "code",
   "execution_count": 2,
   "metadata": {},
   "outputs": [
    {
     "data": {
      "text/html": [
       "<div>\n",
       "<style scoped>\n",
       "    .dataframe tbody tr th:only-of-type {\n",
       "        vertical-align: middle;\n",
       "    }\n",
       "\n",
       "    .dataframe tbody tr th {\n",
       "        vertical-align: top;\n",
       "    }\n",
       "\n",
       "    .dataframe thead th {\n",
       "        text-align: right;\n",
       "    }\n",
       "</style>\n",
       "<table border=\"1\" class=\"dataframe\">\n",
       "  <thead>\n",
       "    <tr style=\"text-align: right;\">\n",
       "      <th></th>\n",
       "      <th>name</th>\n",
       "      <th>synonyms</th>\n",
       "    </tr>\n",
       "  </thead>\n",
       "  <tbody>\n",
       "    <tr>\n",
       "      <th>0</th>\n",
       "      <td>ABB LTD-REG</td>\n",
       "      <td>NaN</td>\n",
       "    </tr>\n",
       "    <tr>\n",
       "      <th>1</th>\n",
       "      <td>ABIOMED Inc.</td>\n",
       "      <td>ABIOMED Inc.</td>\n",
       "    </tr>\n",
       "    <tr>\n",
       "      <th>2</th>\n",
       "      <td>3i Group</td>\n",
       "      <td>NaN</td>\n",
       "    </tr>\n",
       "    <tr>\n",
       "      <th>3</th>\n",
       "      <td>AB InBev SA-NV</td>\n",
       "      <td>Anheuser-Busch InBev SA/NV</td>\n",
       "    </tr>\n",
       "    <tr>\n",
       "      <th>4</th>\n",
       "      <td>Accor S.A</td>\n",
       "      <td>Accor</td>\n",
       "    </tr>\n",
       "  </tbody>\n",
       "</table>\n",
       "</div>"
      ],
      "text/plain": [
       "              name                    synonyms\n",
       "0      ABB LTD-REG                         NaN\n",
       "1     ABIOMED Inc.                ABIOMED Inc.\n",
       "2         3i Group                         NaN\n",
       "3  AB InBev SA-NV   Anheuser-Busch InBev SA/NV\n",
       "4        Accor S.A                       Accor"
      ]
     },
     "execution_count": 2,
     "metadata": {},
     "output_type": "execute_result"
    }
   ],
   "source": [
    "inte_names = pd.read_csv('data/IntegrumNamesSynonyms.csv')\n",
    "inte_names.head()"
   ]
  },
  {
   "cell_type": "code",
   "execution_count": 3,
   "metadata": {},
   "outputs": [
    {
     "data": {
      "text/html": [
       "<div>\n",
       "<style scoped>\n",
       "    .dataframe tbody tr th:only-of-type {\n",
       "        vertical-align: middle;\n",
       "    }\n",
       "\n",
       "    .dataframe tbody tr th {\n",
       "        vertical-align: top;\n",
       "    }\n",
       "\n",
       "    .dataframe thead th {\n",
       "        text-align: right;\n",
       "    }\n",
       "</style>\n",
       "<table border=\"1\" class=\"dataframe\">\n",
       "  <thead>\n",
       "    <tr style=\"text-align: right;\">\n",
       "      <th></th>\n",
       "      <th>lei</th>\n",
       "      <th>legal_name</th>\n",
       "    </tr>\n",
       "  </thead>\n",
       "  <tbody>\n",
       "    <tr>\n",
       "      <th>0</th>\n",
       "      <td>2138006OTCECA7V12D34</td>\n",
       "      <td>NATIONALE BORG REINSURANCE N.V.</td>\n",
       "    </tr>\n",
       "    <tr>\n",
       "      <th>1</th>\n",
       "      <td>549300LG53GXF359TQ39</td>\n",
       "      <td>BARING INVESTMENT FUNDS PLC - BARING ASIAN DEB...</td>\n",
       "    </tr>\n",
       "    <tr>\n",
       "      <th>2</th>\n",
       "      <td>213800U17THE1662Z496</td>\n",
       "      <td>CUCINA ACQUISITION (UK) LIMITED</td>\n",
       "    </tr>\n",
       "    <tr>\n",
       "      <th>3</th>\n",
       "      <td>213800CAIVXI95XYUC30</td>\n",
       "      <td>AVELLEMY FUNDS OEIC - AVELLEMY 3</td>\n",
       "    </tr>\n",
       "    <tr>\n",
       "      <th>4</th>\n",
       "      <td>213800VHRLPHSNZJ4314</td>\n",
       "      <td>PATCHWORK ENERGY LIMITED</td>\n",
       "    </tr>\n",
       "  </tbody>\n",
       "</table>\n",
       "</div>"
      ],
      "text/plain": [
       "                    lei                                         legal_name\n",
       "0  2138006OTCECA7V12D34                    NATIONALE BORG REINSURANCE N.V.\n",
       "1  549300LG53GXF359TQ39  BARING INVESTMENT FUNDS PLC - BARING ASIAN DEB...\n",
       "2  213800U17THE1662Z496                    CUCINA ACQUISITION (UK) LIMITED\n",
       "3  213800CAIVXI95XYUC30                   AVELLEMY FUNDS OEIC - AVELLEMY 3\n",
       "4  213800VHRLPHSNZJ4314                           PATCHWORK ENERGY LIMITED"
      ]
     },
     "execution_count": 3,
     "metadata": {},
     "output_type": "execute_result"
    }
   ],
   "source": [
    "legal_names = pd.read_csv('data/LeiLegalname.csv')\n",
    "legal_names.head()"
   ]
  },
  {
   "cell_type": "code",
   "execution_count": 4,
   "metadata": {},
   "outputs": [
    {
     "data": {
      "text/html": [
       "<div>\n",
       "<style scoped>\n",
       "    .dataframe tbody tr th:only-of-type {\n",
       "        vertical-align: middle;\n",
       "    }\n",
       "\n",
       "    .dataframe tbody tr th {\n",
       "        vertical-align: top;\n",
       "    }\n",
       "\n",
       "    .dataframe thead th {\n",
       "        text-align: right;\n",
       "    }\n",
       "</style>\n",
       "<table border=\"1\" class=\"dataframe\">\n",
       "  <thead>\n",
       "    <tr style=\"text-align: right;\">\n",
       "      <th></th>\n",
       "      <th>lei</th>\n",
       "      <th>legal_name</th>\n",
       "    </tr>\n",
       "  </thead>\n",
       "  <tbody>\n",
       "    <tr>\n",
       "      <th>312070</th>\n",
       "      <td>743700H59GD67TAURX08</td>\n",
       "      <td>NaN</td>\n",
       "    </tr>\n",
       "    <tr>\n",
       "      <th>312071</th>\n",
       "      <td>743700LBRGRYJFUWTH23</td>\n",
       "      <td>NaN</td>\n",
       "    </tr>\n",
       "    <tr>\n",
       "      <th>312072</th>\n",
       "      <td>743700YK0UAF6KQQ6N58</td>\n",
       "      <td>NaN</td>\n",
       "    </tr>\n",
       "    <tr>\n",
       "      <th>312073</th>\n",
       "      <td>743700Z235FZDWL6CY78</td>\n",
       "      <td>NaN</td>\n",
       "    </tr>\n",
       "    <tr>\n",
       "      <th>312074</th>\n",
       "      <td>743700HOBAYLLXIRJT97</td>\n",
       "      <td>NaN</td>\n",
       "    </tr>\n",
       "  </tbody>\n",
       "</table>\n",
       "</div>"
      ],
      "text/plain": [
       "                         lei legal_name\n",
       "312070  743700H59GD67TAURX08        NaN\n",
       "312071  743700LBRGRYJFUWTH23        NaN\n",
       "312072  743700YK0UAF6KQQ6N58        NaN\n",
       "312073  743700Z235FZDWL6CY78        NaN\n",
       "312074  743700HOBAYLLXIRJT97        NaN"
      ]
     },
     "execution_count": 4,
     "metadata": {},
     "output_type": "execute_result"
    }
   ],
   "source": [
    "# Delete missing values\n",
    "legal_names[legal_names['legal_name'].isna()]"
   ]
  },
  {
   "cell_type": "code",
   "execution_count": 5,
   "metadata": {},
   "outputs": [
    {
     "name": "stdout",
     "output_type": "stream",
     "text": [
      "1735176\n",
      "1021508\n"
     ]
    }
   ],
   "source": [
    "print(len(legal_names['legal_name']))\n",
    "print(len(legal_names['legal_name'].unique()))"
   ]
  },
  {
   "cell_type": "code",
   "execution_count": 6,
   "metadata": {},
   "outputs": [],
   "source": [
    "# Delete duplicates\n",
    "legal_names.drop_duplicates(subset='legal_name', inplace=True)"
   ]
  },
  {
   "cell_type": "code",
   "execution_count": 7,
   "metadata": {},
   "outputs": [],
   "source": [
    "# Drop NA in legal names\n",
    "legal_names.dropna(axis=0, how='any', inplace=True)"
   ]
  },
  {
   "cell_type": "code",
   "execution_count": 8,
   "metadata": {},
   "outputs": [
    {
     "data": {
      "text/plain": [
       "1021507"
      ]
     },
     "execution_count": 8,
     "metadata": {},
     "output_type": "execute_result"
    }
   ],
   "source": [
    "len(legal_names)"
   ]
  },
  {
   "cell_type": "code",
   "execution_count": 9,
   "metadata": {},
   "outputs": [
    {
     "data": {
      "text/html": [
       "<div>\n",
       "<style scoped>\n",
       "    .dataframe tbody tr th:only-of-type {\n",
       "        vertical-align: middle;\n",
       "    }\n",
       "\n",
       "    .dataframe tbody tr th {\n",
       "        vertical-align: top;\n",
       "    }\n",
       "\n",
       "    .dataframe thead th {\n",
       "        text-align: right;\n",
       "    }\n",
       "</style>\n",
       "<table border=\"1\" class=\"dataframe\">\n",
       "  <thead>\n",
       "    <tr style=\"text-align: right;\">\n",
       "      <th></th>\n",
       "      <th>name</th>\n",
       "      <th>synonyms</th>\n",
       "      <th>name_sd</th>\n",
       "      <th>synonyms_sd</th>\n",
       "    </tr>\n",
       "  </thead>\n",
       "  <tbody>\n",
       "    <tr>\n",
       "      <th>0</th>\n",
       "      <td>ABB LTD-REG</td>\n",
       "      <td>NaN</td>\n",
       "      <td>abb -reg</td>\n",
       "      <td>NaN</td>\n",
       "    </tr>\n",
       "    <tr>\n",
       "      <th>1</th>\n",
       "      <td>ABIOMED Inc.</td>\n",
       "      <td>ABIOMED Inc.</td>\n",
       "      <td>abiomed</td>\n",
       "      <td>abiomed</td>\n",
       "    </tr>\n",
       "    <tr>\n",
       "      <th>2</th>\n",
       "      <td>3i Group</td>\n",
       "      <td>NaN</td>\n",
       "      <td>3i</td>\n",
       "      <td>NaN</td>\n",
       "    </tr>\n",
       "    <tr>\n",
       "      <th>3</th>\n",
       "      <td>AB InBev SA-NV</td>\n",
       "      <td>Anheuser-Busch InBev SA/NV</td>\n",
       "      <td>ab inbev sa-nv</td>\n",
       "      <td>anheuser-busch inbev sa/nv</td>\n",
       "    </tr>\n",
       "    <tr>\n",
       "      <th>4</th>\n",
       "      <td>Accor S.A</td>\n",
       "      <td>Accor</td>\n",
       "      <td>accor sa</td>\n",
       "      <td>accor</td>\n",
       "    </tr>\n",
       "  </tbody>\n",
       "</table>\n",
       "</div>"
      ],
      "text/plain": [
       "              name                    synonyms          name_sd  \\\n",
       "0      ABB LTD-REG                         NaN         abb -reg   \n",
       "1     ABIOMED Inc.                ABIOMED Inc.         abiomed    \n",
       "2         3i Group                         NaN              3i    \n",
       "3  AB InBev SA-NV   Anheuser-Busch InBev SA/NV  ab inbev sa-nv    \n",
       "4        Accor S.A                       Accor         accor sa   \n",
       "\n",
       "                  synonyms_sd  \n",
       "0                         NaN  \n",
       "1                    abiomed   \n",
       "2                         NaN  \n",
       "3  anheuser-busch inbev sa/nv  \n",
       "4                       accor  "
      ]
     },
     "execution_count": 9,
     "metadata": {},
     "output_type": "execute_result"
    }
   ],
   "source": [
    "standardise(inte_names, 'name')\n",
    "standardise(inte_names, 'synonyms')\n",
    "inte_names.head()"
   ]
  },
  {
   "cell_type": "code",
   "execution_count": 10,
   "metadata": {},
   "outputs": [
    {
     "data": {
      "text/html": [
       "<div>\n",
       "<style scoped>\n",
       "    .dataframe tbody tr th:only-of-type {\n",
       "        vertical-align: middle;\n",
       "    }\n",
       "\n",
       "    .dataframe tbody tr th {\n",
       "        vertical-align: top;\n",
       "    }\n",
       "\n",
       "    .dataframe thead th {\n",
       "        text-align: right;\n",
       "    }\n",
       "</style>\n",
       "<table border=\"1\" class=\"dataframe\">\n",
       "  <thead>\n",
       "    <tr style=\"text-align: right;\">\n",
       "      <th></th>\n",
       "      <th>lei</th>\n",
       "      <th>legal_name</th>\n",
       "      <th>legal_name_sd</th>\n",
       "    </tr>\n",
       "  </thead>\n",
       "  <tbody>\n",
       "    <tr>\n",
       "      <th>0</th>\n",
       "      <td>2138006OTCECA7V12D34</td>\n",
       "      <td>NATIONALE BORG REINSURANCE N.V.</td>\n",
       "      <td>nationale borg reinsurance nv</td>\n",
       "    </tr>\n",
       "    <tr>\n",
       "      <th>1</th>\n",
       "      <td>549300LG53GXF359TQ39</td>\n",
       "      <td>BARING INVESTMENT FUNDS PLC - BARING ASIAN DEB...</td>\n",
       "      <td>baring investment funds  - baring asian debt fund</td>\n",
       "    </tr>\n",
       "    <tr>\n",
       "      <th>2</th>\n",
       "      <td>213800U17THE1662Z496</td>\n",
       "      <td>CUCINA ACQUISITION (UK) LIMITED</td>\n",
       "      <td>cucina acquisition (uk)</td>\n",
       "    </tr>\n",
       "    <tr>\n",
       "      <th>3</th>\n",
       "      <td>213800CAIVXI95XYUC30</td>\n",
       "      <td>AVELLEMY FUNDS OEIC - AVELLEMY 3</td>\n",
       "      <td>avellemy funds oeic - avellemy 3</td>\n",
       "    </tr>\n",
       "    <tr>\n",
       "      <th>4</th>\n",
       "      <td>213800VHRLPHSNZJ4314</td>\n",
       "      <td>PATCHWORK ENERGY LIMITED</td>\n",
       "      <td>patchwork energy</td>\n",
       "    </tr>\n",
       "  </tbody>\n",
       "</table>\n",
       "</div>"
      ],
      "text/plain": [
       "                    lei                                         legal_name  \\\n",
       "0  2138006OTCECA7V12D34                    NATIONALE BORG REINSURANCE N.V.   \n",
       "1  549300LG53GXF359TQ39  BARING INVESTMENT FUNDS PLC - BARING ASIAN DEB...   \n",
       "2  213800U17THE1662Z496                    CUCINA ACQUISITION (UK) LIMITED   \n",
       "3  213800CAIVXI95XYUC30                   AVELLEMY FUNDS OEIC - AVELLEMY 3   \n",
       "4  213800VHRLPHSNZJ4314                           PATCHWORK ENERGY LIMITED   \n",
       "\n",
       "                                       legal_name_sd  \n",
       "0                      nationale borg reinsurance nv  \n",
       "1  baring investment funds  - baring asian debt fund  \n",
       "2                           cucina acquisition (uk)   \n",
       "3                   avellemy funds oeic - avellemy 3  \n",
       "4                                  patchwork energy   "
      ]
     },
     "execution_count": 10,
     "metadata": {},
     "output_type": "execute_result"
    }
   ],
   "source": [
    "standardise(legal_names, 'legal_name')\n",
    "legal_names.head()"
   ]
  },
  {
   "cell_type": "code",
   "execution_count": 11,
   "metadata": {},
   "outputs": [
    {
     "name": "stdout",
     "output_type": "stream",
     "text": [
      "<class 'pandas.core.frame.DataFrame'>\n",
      "Int64Index: 1021507 entries, 0 to 1552400\n",
      "Data columns (total 3 columns):\n",
      " #   Column         Non-Null Count    Dtype \n",
      "---  ------         --------------    ----- \n",
      " 0   lei            1021507 non-null  object\n",
      " 1   legal_name     1021507 non-null  object\n",
      " 2   legal_name_sd  1021507 non-null  object\n",
      "dtypes: object(3)\n",
      "memory usage: 31.2+ MB\n"
     ]
    }
   ],
   "source": [
    "legal_names.info()"
   ]
  },
  {
   "cell_type": "code",
   "execution_count": 12,
   "metadata": {},
   "outputs": [],
   "source": [
    "inte_names.to_csv('data/inte_names.csv', index=False)\n",
    "legal_names.to_csv('data/legal_names.csv', index=False)"
   ]
  },
  {
   "cell_type": "code",
   "execution_count": 13,
   "metadata": {},
   "outputs": [
    {
     "data": {
      "text/html": [
       "<div>\n",
       "<style scoped>\n",
       "    .dataframe tbody tr th:only-of-type {\n",
       "        vertical-align: middle;\n",
       "    }\n",
       "\n",
       "    .dataframe tbody tr th {\n",
       "        vertical-align: top;\n",
       "    }\n",
       "\n",
       "    .dataframe thead th {\n",
       "        text-align: right;\n",
       "    }\n",
       "</style>\n",
       "<table border=\"1\" class=\"dataframe\">\n",
       "  <thead>\n",
       "    <tr style=\"text-align: right;\">\n",
       "      <th></th>\n",
       "      <th>name</th>\n",
       "      <th>synonyms</th>\n",
       "      <th>name_sd</th>\n",
       "      <th>synonyms_sd</th>\n",
       "    </tr>\n",
       "  </thead>\n",
       "  <tbody>\n",
       "  </tbody>\n",
       "</table>\n",
       "</div>"
      ],
      "text/plain": [
       "Empty DataFrame\n",
       "Columns: [name, synonyms, name_sd, synonyms_sd]\n",
       "Index: []"
      ]
     },
     "execution_count": 13,
     "metadata": {},
     "output_type": "execute_result"
    }
   ],
   "source": [
    "inte_names[inte_names['name_sd'].str.contains('settlement|portfolio|scheme|legacy|loan|children|grandchildren|deceased|discretionary|administration')]"
   ]
  },
  {
   "cell_type": "code",
   "execution_count": 14,
   "metadata": {},
   "outputs": [
    {
     "data": {
      "text/plain": [
       "41939"
      ]
     },
     "execution_count": 14,
     "metadata": {},
     "output_type": "execute_result"
    }
   ],
   "source": [
    "sum(legal_names['legal_name_sd'].str.contains('settlement|portfolio|scheme|legacy|loan|children|grandchildren|deceased|discretionary|administration'))"
   ]
  },
  {
   "cell_type": "markdown",
   "metadata": {},
   "source": [
    "I noticed:\n",
    "There are a lot of private funds and settlements that do not appear in the list to be matched. It might make sense to exclude them, however, they only constitute less than 4% of the total count. I have kept them in."
   ]
  },
  {
   "cell_type": "markdown",
   "metadata": {},
   "source": [
    "### II. Fuzzywuzzy - Levenshtein distance"
   ]
  },
  {
   "cell_type": "markdown",
   "metadata": {},
   "source": [
    "FuzzyWuzzy is a Python library using Levenshtein distance to match strings. Levenshtein distance uses the minium number of steps of simgle character change from one string to another. It's important to remove the stop words, so I used the standardised legal names."
   ]
  },
  {
   "cell_type": "code",
   "execution_count": 23,
   "metadata": {},
   "outputs": [],
   "source": [
    "from fuzzywuzzy import fuzz\n",
    "from fuzzywuzzy import process\n",
    "from time import time"
   ]
  },
  {
   "cell_type": "code",
   "execution_count": 50,
   "metadata": {},
   "outputs": [
    {
     "data": {
      "text/plain": [
       "'nationale borg reinsurance nv'"
      ]
     },
     "execution_count": 50,
     "metadata": {},
     "output_type": "execute_result"
    }
   ],
   "source": [
    "# Use a dictionary to help map standardised names back to original names\n",
    "choices = legal_names['legal_name_sd'].to_dict()\n",
    "choices[0]"
   ]
  },
  {
   "cell_type": "code",
   "execution_count": 51,
   "metadata": {},
   "outputs": [
    {
     "name": "stdout",
     "output_type": "stream",
     "text": [
      "[('eg  ', 90, 273986), ('abb  ', 90, 456530), ('abb ', 90, 558802), ('  ab', 90, 670755), ('abb ', 90, 725397)]\n",
      "Searched 1M records in 58.075 seconds \n",
      "\n"
     ]
    }
   ],
   "source": [
    "time_start = time()\n",
    "print(process.extract('abb -reg', choices, limit=5))\n",
    "time_end = time()\n",
    "print(f'Searched 1M records in {round(time_end-time_start,3) } seconds \\n')"
   ]
  },
  {
   "cell_type": "markdown",
   "metadata": {},
   "source": [
    "It took about a minute to return matches for one record, and the result is OK. However, I don't want to return the matched standardised names, but original names. So let's change that!"
   ]
  },
  {
   "cell_type": "code",
   "execution_count": 53,
   "metadata": {},
   "outputs": [
    {
     "name": "stdout",
     "output_type": "stream",
     "text": [
      "EG Group Limited 90\n",
      "ABB Company Limited 90\n",
      "ABB Limited 90\n",
      "CO Group AB 90\n",
      "ABB INC. 90\n"
     ]
    }
   ],
   "source": [
    "result = process.extract('abb -reg', choices, limit=5)\n",
    "for match in result:\n",
    "    print(legal_names.loc[match[2], 'legal_name'], match[1])"
   ]
  },
  {
   "cell_type": "markdown",
   "metadata": {},
   "source": [
    "Now match all the company names and save them. (It takes too long, so it is abandoned)."
   ]
  },
  {
   "cell_type": "code",
   "execution_count": null,
   "metadata": {},
   "outputs": [],
   "source": [
    "inte_names['fw'] = None\n",
    "for idx, row in inte_names.iterrows():\n",
    "    result = process.extract(row['name'], choices, limit=5)\n",
    "    matches = []\n",
    "    for match in result:\n",
    "        matches.append((legal_names.loc[match[2], 'legal_name'], match[1]))\n",
    "    inte_names.loc[idx,'fw'] = matches"
   ]
  },
  {
   "cell_type": "code",
   "execution_count": null,
   "metadata": {},
   "outputs": [],
   "source": [
    "inte_names.to_csv('data/inte_names.csv', index=False)"
   ]
  },
  {
   "cell_type": "markdown",
   "metadata": {},
   "source": [
    "### III. BM25 \"improved\" TFIDF "
   ]
  },
  {
   "cell_type": "markdown",
   "metadata": {},
   "source": [
    "BM25 improves on TF-IDF. It was chosen because it is more sensitive towards more unique words, often like the keyword in a company's name. i.e. There are not many 'Integrum's in the world! <br><br>\n",
    "You can also fine tune K to make it extra sensitive to unique words, but I won't be doing that here!"
   ]
  },
  {
   "cell_type": "markdown",
   "metadata": {},
   "source": [
    "Before BM25, I want to add a column that combine the text from of original and synonym columns together."
   ]
  },
  {
   "cell_type": "code",
   "execution_count": 36,
   "metadata": {},
   "outputs": [
    {
     "data": {
      "text/html": [
       "<div>\n",
       "<style scoped>\n",
       "    .dataframe tbody tr th:only-of-type {\n",
       "        vertical-align: middle;\n",
       "    }\n",
       "\n",
       "    .dataframe tbody tr th {\n",
       "        vertical-align: top;\n",
       "    }\n",
       "\n",
       "    .dataframe thead th {\n",
       "        text-align: right;\n",
       "    }\n",
       "</style>\n",
       "<table border=\"1\" class=\"dataframe\">\n",
       "  <thead>\n",
       "    <tr style=\"text-align: right;\">\n",
       "      <th></th>\n",
       "      <th>name</th>\n",
       "      <th>synonyms</th>\n",
       "      <th>name_sd</th>\n",
       "      <th>synonyms_sd</th>\n",
       "    </tr>\n",
       "  </thead>\n",
       "  <tbody>\n",
       "    <tr>\n",
       "      <th>0</th>\n",
       "      <td>ABB LTD-REG</td>\n",
       "      <td>NaN</td>\n",
       "      <td>abb -reg</td>\n",
       "      <td>NaN</td>\n",
       "    </tr>\n",
       "    <tr>\n",
       "      <th>1</th>\n",
       "      <td>ABIOMED Inc.</td>\n",
       "      <td>ABIOMED Inc.</td>\n",
       "      <td>abiomed</td>\n",
       "      <td>abiomed</td>\n",
       "    </tr>\n",
       "    <tr>\n",
       "      <th>2</th>\n",
       "      <td>3i Group</td>\n",
       "      <td>NaN</td>\n",
       "      <td>3i</td>\n",
       "      <td>NaN</td>\n",
       "    </tr>\n",
       "    <tr>\n",
       "      <th>3</th>\n",
       "      <td>AB InBev SA-NV</td>\n",
       "      <td>Anheuser-Busch InBev SA/NV</td>\n",
       "      <td>ab inbev sa-nv</td>\n",
       "      <td>anheuser-busch inbev sa/nv</td>\n",
       "    </tr>\n",
       "    <tr>\n",
       "      <th>4</th>\n",
       "      <td>Accor S.A</td>\n",
       "      <td>Accor</td>\n",
       "      <td>accor sa</td>\n",
       "      <td>accor</td>\n",
       "    </tr>\n",
       "  </tbody>\n",
       "</table>\n",
       "</div>"
      ],
      "text/plain": [
       "              name                    synonyms          name_sd  \\\n",
       "0      ABB LTD-REG                         NaN         abb -reg   \n",
       "1     ABIOMED Inc.                ABIOMED Inc.         abiomed    \n",
       "2         3i Group                         NaN              3i    \n",
       "3  AB InBev SA-NV   Anheuser-Busch InBev SA/NV  ab inbev sa-nv    \n",
       "4        Accor S.A                       Accor         accor sa   \n",
       "\n",
       "                  synonyms_sd  \n",
       "0                         NaN  \n",
       "1                    abiomed   \n",
       "2                         NaN  \n",
       "3  anheuser-busch inbev sa/nv  \n",
       "4                       accor  "
      ]
     },
     "execution_count": 36,
     "metadata": {},
     "output_type": "execute_result"
    }
   ],
   "source": [
    "inte_names.head()"
   ]
  },
  {
   "cell_type": "code",
   "execution_count": 38,
   "metadata": {},
   "outputs": [
    {
     "data": {
      "text/html": [
       "<div>\n",
       "<style scoped>\n",
       "    .dataframe tbody tr th:only-of-type {\n",
       "        vertical-align: middle;\n",
       "    }\n",
       "\n",
       "    .dataframe tbody tr th {\n",
       "        vertical-align: top;\n",
       "    }\n",
       "\n",
       "    .dataframe thead th {\n",
       "        text-align: right;\n",
       "    }\n",
       "</style>\n",
       "<table border=\"1\" class=\"dataframe\">\n",
       "  <thead>\n",
       "    <tr style=\"text-align: right;\">\n",
       "      <th></th>\n",
       "      <th>name</th>\n",
       "      <th>synonyms</th>\n",
       "      <th>name_sd</th>\n",
       "      <th>synonyms_sd</th>\n",
       "      <th>comb_name</th>\n",
       "    </tr>\n",
       "  </thead>\n",
       "  <tbody>\n",
       "    <tr>\n",
       "      <th>0</th>\n",
       "      <td>ABB LTD-REG</td>\n",
       "      <td></td>\n",
       "      <td>abb -reg</td>\n",
       "      <td>NaN</td>\n",
       "      <td>ABB LTD-REG</td>\n",
       "    </tr>\n",
       "    <tr>\n",
       "      <th>1</th>\n",
       "      <td>ABIOMED Inc.</td>\n",
       "      <td>ABIOMED Inc.</td>\n",
       "      <td>abiomed</td>\n",
       "      <td>abiomed</td>\n",
       "      <td>ABIOMED Inc. ABIOMED Inc.</td>\n",
       "    </tr>\n",
       "    <tr>\n",
       "      <th>2</th>\n",
       "      <td>3i Group</td>\n",
       "      <td></td>\n",
       "      <td>3i</td>\n",
       "      <td>NaN</td>\n",
       "      <td>3i Group</td>\n",
       "    </tr>\n",
       "    <tr>\n",
       "      <th>3</th>\n",
       "      <td>AB InBev SA-NV</td>\n",
       "      <td>Anheuser-Busch InBev SA/NV</td>\n",
       "      <td>ab inbev sa-nv</td>\n",
       "      <td>anheuser-busch inbev sa/nv</td>\n",
       "      <td>AB InBev SA-NV  Anheuser-Busch InBev SA/NV</td>\n",
       "    </tr>\n",
       "    <tr>\n",
       "      <th>4</th>\n",
       "      <td>Accor S.A</td>\n",
       "      <td>Accor</td>\n",
       "      <td>accor sa</td>\n",
       "      <td>accor</td>\n",
       "      <td>Accor S.A Accor</td>\n",
       "    </tr>\n",
       "  </tbody>\n",
       "</table>\n",
       "</div>"
      ],
      "text/plain": [
       "              name                    synonyms          name_sd  \\\n",
       "0      ABB LTD-REG                                     abb -reg   \n",
       "1     ABIOMED Inc.                ABIOMED Inc.         abiomed    \n",
       "2         3i Group                                          3i    \n",
       "3  AB InBev SA-NV   Anheuser-Busch InBev SA/NV  ab inbev sa-nv    \n",
       "4        Accor S.A                       Accor         accor sa   \n",
       "\n",
       "                  synonyms_sd                                   comb_name  \n",
       "0                         NaN                               ABB LTD-REG    \n",
       "1                    abiomed                    ABIOMED Inc. ABIOMED Inc.  \n",
       "2                         NaN                                  3i Group    \n",
       "3  anheuser-busch inbev sa/nv  AB InBev SA-NV  Anheuser-Busch InBev SA/NV  \n",
       "4                       accor                             Accor S.A Accor  "
      ]
     },
     "execution_count": 38,
     "metadata": {},
     "output_type": "execute_result"
    }
   ],
   "source": [
    "inte_names['synonyms'].fillna(' ', inplace=True)\n",
    "inte_names['comb_name'] = inte_names['name'] + ' ' + inte_names['synonyms']\n",
    "inte_names.head()"
   ]
  },
  {
   "cell_type": "code",
   "execution_count": 27,
   "metadata": {},
   "outputs": [
    {
     "name": "stderr",
     "output_type": "stream",
     "text": [
      "1021507it [01:25, 11977.85it/s]\n"
     ]
    }
   ],
   "source": [
    "import spacy\n",
    "from rank_bm25 import BM25Okapi\n",
    "from tqdm import tqdm\n",
    "import en_core_web_lg\n",
    "\n",
    "nlp = en_core_web_lg.load()\n",
    "\n",
    "legal_names_list = legal_names['legal_name'].str.lower().values\n",
    "tokens = []\n",
    "\n",
    "for doc in tqdm(nlp.pipe(legal_names_list, disable=['tagger', 'parser', 'ner'])):\n",
    "    token = [t.text for t in doc if t.is_alpha]\n",
    "    tokens.append(token)"
   ]
  },
  {
   "cell_type": "markdown",
   "metadata": {},
   "source": [
    "Check how different languages have been tokenised"
   ]
  },
  {
   "cell_type": "code",
   "execution_count": 28,
   "metadata": {},
   "outputs": [
    {
     "name": "stdout",
     "output_type": "stream",
     "text": [
      "English ['barclays', 'multi', 'manager', 'fund', 'public', 'limited', 'company', 'globalaccess', 'japan', 'fund']\n",
      "Greek(?) ['φυρκο', 'ανωνυμη', 'βιομηχανικη', 'εμπορικη', 'εταιρεια', 'ζωοτροφων']\n",
      "Spanish ['eólica', 'do', 'alto', 'da', 'lagoa']\n",
      "Japanese []\n",
      "Swidish? ['korunní', 'dvůr']\n",
      "Chinese ['广州岭南集团控股股份有限公司']\n"
     ]
    }
   ],
   "source": [
    "print('English', tokens[637457])\n",
    "print('Greek(?)', tokens[95710])\n",
    "print('Spanish', tokens[96760])\n",
    "print('Japanese', tokens[198943])\n",
    "print('Swidish?', tokens[152754])\n",
    "print('Chinese', tokens[144947])\n",
    "\n"
   ]
  },
  {
   "cell_type": "markdown",
   "metadata": {},
   "source": [
    "It looks like some languages haven't been tokenised well. Because our query list doesn't seem to include these languages. We will ignore this for now."
   ]
  },
  {
   "cell_type": "code",
   "execution_count": 29,
   "metadata": {},
   "outputs": [],
   "source": [
    "bm25 = BM25Okapi(tokens)"
   ]
  },
  {
   "cell_type": "code",
   "execution_count": 30,
   "metadata": {},
   "outputs": [
    {
     "name": "stdout",
     "output_type": "stream",
     "text": [
      "Searched 50,000 records in 0.759 seconds \n",
      "\n",
      "Query: ServiceNow\n",
      "ServiceNow Nederland B.V.: 0.29\n",
      "SERVICENOW, INC.: 0.29\n",
      "SERVICENOW UK LIMITED: 0.25\n",
      "SERVICENOW SOFTWARE DEVELOPMENT INDIA PRIVATE LIMITED: 0.18\n",
      "Työväen Opintorahasto sr: 0.00\n",
      "Työttömyyskassojen tukisäätiö sr: 0.00\n",
      "Työttömyyskassojen Tukikassa: 0.00\n",
      "Työttömyyskassa Statia: 0.00\n",
      "Työstökoneliike M. Koskela Oy: 0.00\n",
      "Työttömyyskassa Pro: 0.00\n"
     ]
    }
   ],
   "source": [
    "\n",
    "query = inte_names.loc[5, 'name']\n",
    "tokenised_q = query.lower().split(' ')\n",
    "\n",
    "time_start = time()\n",
    "results = bm25.get_top_n(tokenised_q, legal_names['legal_name'].values, n=10)\n",
    "scores = np.sort(bm25.get_scores(tokenised_q))[::-1]\n",
    "scores = scores/sum(scores)\n",
    "time_end= time()\n",
    "\n",
    "print(f'Searched 50,000 records in {round(time_end-time_start,3) } seconds \\n')\n",
    "print('Query:', query)\n",
    "for i, match in enumerate(results):\n",
    "    print(f'{match}: {scores[i]:.2f}')"
   ]
  },
  {
   "cell_type": "code",
   "execution_count": 39,
   "metadata": {},
   "outputs": [
    {
     "name": "stdout",
     "output_type": "stream",
     "text": [
      "Searched 1M records in 1.235 seconds \n",
      "\n",
      "Query: ABIOMED Inc.\n",
      "abiomed, inc.: 1.00\n",
      "the young men's christian association of metropolitan denver: 0.00\n",
      "työstökoneliike m. koskela oy: 0.00\n",
      "työväen teatterin talosäätiö sr: 0.00\n",
      "työväen sivistysliitto tsl ry, ruotsiksi arbetarnas bildningsförbund abf rf: 0.00\n",
      "työväen sivistysliiton riihimäen-lopen opintojärjestö ry: 0.00\n",
      "työväen opintorahasto sr: 0.00\n",
      "työttömyyskassojen tukisäätiö sr: 0.00\n",
      "työttömyyskassojen tukikassa: 0.00\n",
      "työttömyyskassa statia: 0.00\n",
      "Searched 1M records in 1.984 seconds \n",
      "\n",
      "Query: ABIOMED Inc.\n",
      "abiomed, inc.: 1.00\n",
      "the young men's christian association of metropolitan denver: 0.00\n",
      "työstökoneliike m. koskela oy: 0.00\n",
      "työväen teatterin talosäätiö sr: 0.00\n",
      "työväen sivistysliitto tsl ry, ruotsiksi arbetarnas bildningsförbund abf rf: 0.00\n",
      "työväen sivistysliiton riihimäen-lopen opintojärjestö ry: 0.00\n",
      "työväen opintorahasto sr: 0.00\n",
      "työttömyyskassojen tukisäätiö sr: 0.00\n",
      "työttömyyskassojen tukikassa: 0.00\n",
      "työttömyyskassa statia: 0.00\n",
      "Searched 1M records in 2.003 seconds \n",
      "\n",
      "Query: AB InBev SA-NV \n",
      "ab inbev uk limited: 0.00\n",
      "inbev spain, s.l.: 0.00\n",
      "inbev belgium: 0.00\n",
      "ab inbev corporate services limited: 0.00\n",
      "pensioenfonds inbev - kaderleden: 0.00\n",
      "kbc institutional investors nv - ab inbev: 0.00\n",
      "ab inbev investments holdings company 2 limited: 0.00\n",
      "anheuser-busch inbev czech s.r.o.: 0.00\n",
      "anheuser busch inbev india limited: 0.00\n",
      "anheuser - busch inbev italia spa: 0.00\n",
      "Searched 1M records in 3.162 seconds \n",
      "\n",
      "Query: AB InBev SA-NV \n",
      "inbev spain, s.l.: 0.00\n",
      "inbev belgium: 0.00\n",
      "ab inbev uk limited: 0.00\n",
      "pensioenfonds inbev - kaderleden: 0.00\n",
      "ab inbev corporate services limited: 0.00\n",
      "anheuser-busch inbev czech s.r.o.: 0.00\n",
      "kbc institutional investors nv - ab inbev: 0.00\n",
      "ab inbev investments holdings company 2 limited: 0.00\n",
      "anheuser busch inbev india limited: 0.00\n",
      "anheuser - busch inbev italia spa: 0.00\n",
      "Searched 1M records in 1.266 seconds \n",
      "\n",
      "Query: 3M Company\n",
      "g. & p. company s.r.l.: 0.00\n",
      "a.g.b. company s.p.a.: 0.00\n",
      "r. & p. company s.r.l.: 0.00\n",
      "g.p. company b.v.: 0.00\n",
      "i.md-company: 0.00\n",
      "n.c.das & company: 0.00\n",
      "m.c. company s.a.m.: 0.00\n",
      "2570 company: 0.00\n",
      "m'knib company: 0.00\n",
      "r.k. & company: 0.00\n",
      "Searched 1M records in 1.979 seconds \n",
      "\n",
      "Query: 3M Company\n",
      "3m company: 0.00\n",
      "m/s.fashion carpet company: 0.00\n",
      "m shailesh & company: 0.00\n",
      "3m innovative properties company: 0.00\n",
      "m d realty company: 0.00\n",
      "3d-m -the 3d mouse company ltd: 0.00\n",
      "m-l holdings company: 0.00\n",
      "m & m: 0.00\n",
      "m & m's s.r.l.: 0.00\n",
      "\"m & m s.r.l. \": 0.00\n",
      "Searched 1M records in 1.269 seconds \n",
      "\n",
      "Query: AGC Inc\n",
      "agc s.r.l.: 0.00\n",
      "agc capital, inc.: 0.00\n",
      "agc partners, l.p.: 0.00\n",
      "agc moselle: 0.00\n",
      "agc biologics s.p.a.: 0.00\n",
      "agc flat glass czech a.s., člen agc group: 0.00\n",
      "agc glass europe: 0.00\n",
      "agc networks limited: 0.00\n",
      "agc biologics italy s.p.a.: 0.00\n",
      "agc addison owner, l.l.c.: 0.00\n",
      "Searched 1M records in 2.303 seconds \n",
      "\n",
      "Query: AGC Inc\n",
      "agc glass europe: 0.00\n",
      "asahi india glass limited: 0.00\n",
      "agc flat glass czech a.s., člen agc group: 0.00\n",
      "asahi/america, inc.: 0.00\n",
      "asahi beer u.s.a., inc.: 0.00\n",
      "agc s.r.l.: 0.00\n",
      "agc capital, inc.: 0.00\n",
      "agc glass hungary korlátolt felelősségű társaság: 0.00\n",
      "agc partners, l.p.: 0.00\n",
      "agc moselle: 0.00\n",
      "Searched 1M records in 1.652 seconds \n",
      "\n",
      "Query: Howmet Aerospace Inc\n",
      "howmet aerospace inc.: 0.00\n",
      "howmet aerospace foundation: 0.00\n",
      "howmet s.a.s.: 0.00\n",
      "howmet aerospace retirement plans master trust: 0.00\n",
      "howmet corporation: 0.00\n",
      "aerospace co., inc.: 0.00\n",
      "casp aerospace inc.: 0.00\n",
      "diehl aerospace, inc.: 0.00\n",
      "ctl-aerospace, inc.: 0.00\n",
      "derco aerospace, inc.: 0.00\n",
      "Searched 1M records in 2.1 seconds \n",
      "\n",
      "Query: Howmet Aerospace Inc\n",
      "howmet aerospace inc.: 0.00\n",
      "howmet aerospace foundation: 0.00\n",
      "arconic inc.: 0.00\n",
      "howmet s.a.s.: 0.00\n",
      "howmet aerospace retirement plans master trust: 0.00\n",
      "howmet corporation: 0.00\n",
      "aerospace co., inc.: 0.00\n",
      "arconic engineered structures inc.: 0.00\n",
      "arconic corporation: 0.00\n",
      "avian aerospace, inc.: 0.00\n",
      "Searched 1M records in 1.908 seconds \n",
      "\n",
      "Query: 4imprint Group plc\n",
      "h&h group plc: 0.00\n",
      "4imprint group plc: 0.00\n",
      "gocompare.com group plc: 0.00\n",
      "3i group plc: 0.00\n",
      "team17 group plc: 0.00\n",
      "c&c group plc: 0.00\n",
      "7digital group plc: 0.00\n",
      "winit365 group plc: 0.00\n",
      "ecsc group plc: 0.00\n",
      "mayair group plc: 0.00\n",
      "Searched 1M records in 2.148 seconds \n",
      "\n",
      "Query: 4imprint Group plc\n",
      "h&h group plc: 0.00\n",
      "4imprint group plc: 0.00\n",
      "gocompare.com group plc: 0.00\n",
      "3i group plc: 0.00\n",
      "team17 group plc: 0.00\n",
      "c&c group plc: 0.00\n",
      "7digital group plc: 0.00\n",
      "winit365 group plc: 0.00\n",
      "ecsc group plc: 0.00\n",
      "mayair group plc: 0.00\n",
      "Searched 1M records in 0.944 seconds \n",
      "\n",
      "Query: BBVA\n",
      "bbva sa: 0.01\n",
      "bbva usa: 0.01\n",
      "bbva luxinvest s.a.: 0.01\n",
      "bbva multiactivo moderado: 0.01\n",
      "bbva mortgage corporation: 0.01\n",
      "bbva re se: 0.01\n",
      "bbva consolidar seguros s.a.: 0.01\n",
      "bbva securities inc.: 0.01\n",
      "grupo bbva (portugal): 0.01\n",
      "bbva nominees limited: 0.01\n",
      "Searched 1M records in 2.286 seconds \n",
      "\n",
      "Query: BBVA\n",
      "banco bilbao vizcaya argentaria colombia s.a.: 0.01\n",
      "banco bilbao vizcaya argentaria (portugal) s.a.: 0.01\n",
      "banco bilbao vizcaya argentaria sociedad anonima: 0.01\n",
      "banco bbva peru: 0.01\n",
      "bbva banco frances s.a.: 0.01\n",
      "bbva brasil banco de investimento s.a.: 0.00\n",
      "bbva banco frances sociedad anonima: 0.00\n",
      "argentari capital llp: 0.00\n",
      "peak bilbao c.v.: 0.00\n",
      "bilbao luxco s.a.: 0.00\n",
      "Searched 1M records in 1.297 seconds \n",
      "\n",
      "Query: BRENNTAG AG\n",
      "brenntag schweizerhall ag: 0.00\n",
      "brenntag finance b.v.: 0.00\n",
      "brenntag export: 0.00\n",
      "brenntag cr s.r.o.: 0.00\n",
      "brenntag nederland b.v.: 0.00\n",
      "brenntag (holding) b.v.: 0.00\n",
      "brenntag slovakia s.r.o.: 0.00\n",
      "brenntag spa: 0.00\n",
      "brenntag nordic as: 0.00\n",
      "brenntag nordic aktiebolag: 0.00\n",
      "Searched 1M records in 1.96 seconds \n",
      "\n",
      "Query: BRENNTAG AG\n",
      "brenntag schweizerhall ag: 0.00\n",
      "brenntag finance b.v.: 0.00\n",
      "brenntag export: 0.00\n",
      "brenntag cr s.r.o.: 0.00\n",
      "brenntag nederland b.v.: 0.00\n",
      "brenntag (holding) b.v.: 0.00\n",
      "brenntag slovakia s.r.o.: 0.00\n",
      "brenntag spa: 0.00\n",
      "brenntag nordic as: 0.00\n",
      "brenntag nordic aktiebolag: 0.00\n",
      "Searched 1M records in 1.615 seconds \n",
      "\n",
      "Query: Burberry Group plc\n",
      "burberry india private limited: 0.00\n",
      "3i group plc: 0.00\n",
      "4imprint group plc: 0.00\n",
      "c&c group plc: 0.00\n",
      "team17 group plc: 0.00\n",
      "h&h group plc: 0.00\n",
      "winit365 group plc: 0.00\n",
      "7digital group plc: 0.00\n",
      "gocompare.com group plc: 0.00\n",
      "rbc cees trustee limited as trustee of the burberry group plc esop trust: 0.00\n",
      "Searched 1M records in 2.297 seconds \n",
      "\n",
      "Query: Burberry Group plc\n",
      "burberry india private limited: 0.00\n",
      "3i group plc: 0.00\n",
      "4imprint group plc: 0.00\n",
      "c&c group plc: 0.00\n",
      "team17 group plc: 0.00\n",
      "h&h group plc: 0.00\n",
      "winit365 group plc: 0.00\n",
      "7digital group plc: 0.00\n",
      "gocompare.com group plc: 0.00\n",
      "rbc cees trustee limited as trustee of the burberry group plc esop trust: 0.00\n"
     ]
    }
   ],
   "source": [
    "# Test a few more with original and synonyms added names\n",
    "trial_list = [1, 3, 15, 37, 67, 95, 102, 126, 134]\n",
    "for i in trial_list:\n",
    "    query = inte_names.loc[i, 'name']\n",
    "    query_with_syn = inte_names.loc[i, 'comb_name']\n",
    "    \n",
    "    tokenised_q = query.lower().split(' ')\n",
    "    tokenised_q_comb = query_with_syn.lower().split(' ')\n",
    "\n",
    "    time_start = time()\n",
    "    results = bm25.get_top_n(tokenised_q, legal_names['legal_name'].str.lower().values, n=10)\n",
    "    scores = np.sort(bm25.get_scores(tokenised_q))[::-1]\n",
    "    scores = scores/sum(scores)\n",
    "    time_end= time()\n",
    "\n",
    "    print(f'Searched 1M records in {round(time_end-time_start,3) } seconds \\n')\n",
    "    print('Query:', query)\n",
    "    for i, match in enumerate(results):\n",
    "        print(f'{match}: {scores[i]:.2f}')\n",
    "        \n",
    "    time_start = time()\n",
    "    results = bm25.get_top_n(tokenised_q_comb, legal_names['legal_name'].str.lower().values, n=10)\n",
    "    scores = np.sort(bm25.get_scores(tokenised_q_comb))[::-1]\n",
    "    scores = scores/sum(scores)\n",
    "    time_end= time()\n",
    "\n",
    "    print(f'Searched 1M records in {round(time_end-time_start,3) } seconds \\n')\n",
    "    print('Query:', query)\n",
    "    for i, match in enumerate(results):\n",
    "        print(f'{match}: {scores[i]:.2f}')"
   ]
  },
  {
   "cell_type": "markdown",
   "metadata": {},
   "source": [
    "Not bad, but the scoring is all over the place for some reason. I will assign my own score as bellow until I find out what the problem is: <br>\n",
    "Rank 1-5: 0.9-0.5 <br>\n",
    "\n",
    "Adding synonyms possibly helped with names acronyms that have expanded synonyms, i.e. AGC Inc <-> Asahi Glass Co"
   ]
  },
  {
   "cell_type": "code",
   "execution_count": 40,
   "metadata": {},
   "outputs": [],
   "source": [
    "# Match top 5 for all and save the results before standardisation\n",
    "inte_names = pd.read_csv('data/inte_names.csv')\n",
    "legal_names = pd.read_csv('data/legal_names.csv')\n",
    "\n",
    "nlp = en_core_web_lg.load()\n",
    "\n",
    "legal_names_list = legal_names['legal_name'].str.lower().values\n",
    "tokens = []\n",
    "\n",
    "for doc in nlp.pipe(legal_names_list, disable=['tagger', 'parser', 'ner']):\n",
    "    token = [t.text for t in doc if t.is_alpha]\n",
    "    tokens.append(token)\n",
    "\n",
    "bm25 = BM25Okapi(tokens)\n",
    "inte_names['bm25'] = None\n",
    "\n",
    "for i, name in enumerate(inte_names['name'].values):\n",
    "    tokenised_q = name.lower().split(' ')\n",
    "    results = bm25.get_top_n(tokenised_q, legal_names['legal_name'].values, n=5)\n",
    "    scores = (0.9, 0.8, 0.7, 0.6, 0.5)\n",
    "    inte_names.loc[i, 'bm25'] = list(zip(results, scores))"
   ]
  },
  {
   "cell_type": "code",
   "execution_count": 52,
   "metadata": {},
   "outputs": [],
   "source": [
    "inte_names.to_csv('data/inte_names.csv', index=False)"
   ]
  },
  {
   "cell_type": "markdown",
   "metadata": {},
   "source": [
    "There are a few observations, from scanning through the .csv file:\n",
    "1. Some match ranking is poor, 100% matches don't appear on top.\n",
    "2. Can't deal with missing white space.\n",
    "3. Some really weird matching going on: i.e. when there isn't a good match, ‘THE YOUNG MEN'S CHRISTIAN ASSOCIATION OF METROPOLITAN DENVER’ is often returned."
   ]
  },
  {
   "cell_type": "markdown",
   "metadata": {},
   "source": [
    "Possible solutions:\n",
    "1. N-grams could help with missing white space and abbreviations\n",
    "2. Adding FuzzyWuzzy on top of BM25 could possibly bring up the 100% matches to the top.\n",
    "3. N-grams could also help with out of vocabulary key words that can't match. So the algorithm does not return weird matches."
   ]
  },
  {
   "cell_type": "markdown",
   "metadata": {},
   "source": [
    "### IV. Improve on BM25 with FuzzyWuzzy"
   ]
  },
  {
   "cell_type": "markdown",
   "metadata": {},
   "source": [
    "The idea is to combat problems with BM producing matches like this: <br>\n",
    "```Query: 4imprint Group plc<br>\n",
    "h&h group plc: 0.00<br>\n",
    "4imprint group plc: 0.00<br>\n",
    "gocompare.com group plc: 0.00<br>\n",
    "3i group plc: 0.00<br>\n",
    "```\n",
    "by layering FuzzyWuzzy on top of BM25"
   ]
  },
  {
   "cell_type": "code",
   "execution_count": 101,
   "metadata": {},
   "outputs": [],
   "source": [
    "inte_names['bm25_fw'] = None\n",
    "for idx, row in inte_names.iterrows():\n",
    "    choices = [name for name, score in row['bm25']]\n",
    "    result = process.extract(row['name'], choices, limit=5)\n",
    "    inte_names.loc[idx,'bm25_fw'] = result"
   ]
  },
  {
   "cell_type": "code",
   "execution_count": 102,
   "metadata": {},
   "outputs": [],
   "source": [
    "inte_names.to_csv('data/inte_names.csv', index=False)"
   ]
  },
  {
   "cell_type": "markdown",
   "metadata": {},
   "source": [
    "### V. FastText (ngram tokenisation) and NMSLIB (faster matching)"
   ]
  },
  {
   "cell_type": "markdown",
   "metadata": {},
   "source": [
    "I ran the second cell below and it was estimated to take a couple of days to finish encoding all the n-grams in the legal file. So I implemented a couple of solutions: <br>\n",
    "1. Remove non-English legal names for the time being.\n",
    "2. Remove the legal names that doesn't contain any of the words in the query dataset in their string.\n",
    "\n",
    "There are a couple of drawbacks: alphabetic entries in the query dataset are not necessarily English and it could remove legal names that matches the query names by phonetics, i.e. PingAn and PingAn in Chinese."
   ]
  },
  {
   "cell_type": "code",
   "execution_count": 86,
   "metadata": {},
   "outputs": [],
   "source": [
    "from langdetect import detect\n",
    "\n",
    "def isEnglish(s):\n",
    "    try:\n",
    "        s.encode(encoding='utf-8').decode('ascii')\n",
    "    except UnicodeDecodeError:\n",
    "        return False\n",
    "    else:\n",
    "        return True\n",
    "\n",
    "legal_names['isEng'] = legal_names['legal_name'].apply(isEnglish)\n",
    "legal_names_en = legal_names[legal_names['isEng']==True]"
   ]
  },
  {
   "cell_type": "code",
   "execution_count": 96,
   "metadata": {},
   "outputs": [],
   "source": [
    "# create a vocab for inte_names\n",
    "vocab = ' '.join(inte_names['name_sd'].to_list()).split()\n",
    "flt = legal_names_en['legal_name'].str.lower().str.contains('|'.join(vocab))\n",
    "legal_names_en = legal_names_en[flt]"
   ]
  },
  {
   "cell_type": "code",
   "execution_count": 97,
   "metadata": {},
   "outputs": [
    {
     "data": {
      "text/html": [
       "<div>\n",
       "<style scoped>\n",
       "    .dataframe tbody tr th:only-of-type {\n",
       "        vertical-align: middle;\n",
       "    }\n",
       "\n",
       "    .dataframe tbody tr th {\n",
       "        vertical-align: top;\n",
       "    }\n",
       "\n",
       "    .dataframe thead th {\n",
       "        text-align: right;\n",
       "    }\n",
       "</style>\n",
       "<table border=\"1\" class=\"dataframe\">\n",
       "  <thead>\n",
       "    <tr style=\"text-align: right;\">\n",
       "      <th></th>\n",
       "      <th>lei</th>\n",
       "      <th>legal_name</th>\n",
       "      <th>legal_name_sd</th>\n",
       "      <th>isEng</th>\n",
       "    </tr>\n",
       "  </thead>\n",
       "  <tbody>\n",
       "    <tr>\n",
       "      <th>0</th>\n",
       "      <td>2138006OTCECA7V12D34</td>\n",
       "      <td>NATIONALE BORG REINSURANCE N.V.</td>\n",
       "      <td>nationale borg reinsurance nv</td>\n",
       "      <td>True</td>\n",
       "    </tr>\n",
       "    <tr>\n",
       "      <th>1</th>\n",
       "      <td>549300LG53GXF359TQ39</td>\n",
       "      <td>BARING INVESTMENT FUNDS PLC - BARING ASIAN DEB...</td>\n",
       "      <td>baring investment funds  - baring asian debt fund</td>\n",
       "      <td>True</td>\n",
       "    </tr>\n",
       "    <tr>\n",
       "      <th>2</th>\n",
       "      <td>213800U17THE1662Z496</td>\n",
       "      <td>CUCINA ACQUISITION (UK) LIMITED</td>\n",
       "      <td>cucina acquisition (uk)</td>\n",
       "      <td>True</td>\n",
       "    </tr>\n",
       "    <tr>\n",
       "      <th>3</th>\n",
       "      <td>213800CAIVXI95XYUC30</td>\n",
       "      <td>AVELLEMY FUNDS OEIC - AVELLEMY 3</td>\n",
       "      <td>avellemy funds oeic - avellemy 3</td>\n",
       "      <td>True</td>\n",
       "    </tr>\n",
       "    <tr>\n",
       "      <th>4</th>\n",
       "      <td>213800VHRLPHSNZJ4314</td>\n",
       "      <td>PATCHWORK ENERGY LIMITED</td>\n",
       "      <td>patchwork energy</td>\n",
       "      <td>True</td>\n",
       "    </tr>\n",
       "    <tr>\n",
       "      <th>...</th>\n",
       "      <td>...</td>\n",
       "      <td>...</td>\n",
       "      <td>...</td>\n",
       "      <td>...</td>\n",
       "    </tr>\n",
       "    <tr>\n",
       "      <th>1021502</th>\n",
       "      <td>549300MHNI5OF7IRT407</td>\n",
       "      <td>SCHRODER INSTITUTIONAL PACIFIC FUND</td>\n",
       "      <td>schroder institutional pacific fund</td>\n",
       "      <td>True</td>\n",
       "    </tr>\n",
       "    <tr>\n",
       "      <th>1021503</th>\n",
       "      <td>549300O9LUQH4YGOF193</td>\n",
       "      <td>KELSEN GROUP A/S</td>\n",
       "      <td>kelsen  a/s</td>\n",
       "      <td>True</td>\n",
       "    </tr>\n",
       "    <tr>\n",
       "      <th>1021504</th>\n",
       "      <td>549300XOOVZAG1ZLG344</td>\n",
       "      <td>DURABLE TECHNOLOGIES GROUP</td>\n",
       "      <td>durable technologies</td>\n",
       "      <td>True</td>\n",
       "    </tr>\n",
       "    <tr>\n",
       "      <th>1021505</th>\n",
       "      <td>549300PZDT9H1T3IQ454</td>\n",
       "      <td>CB-ACCENT LUX - ERASMUS BOND FUND</td>\n",
       "      <td>cb-accent lux - erasmus bond fund</td>\n",
       "      <td>True</td>\n",
       "    </tr>\n",
       "    <tr>\n",
       "      <th>1021506</th>\n",
       "      <td>549300I7ARULFR8OFJ12</td>\n",
       "      <td>THE YOUNG MEN'S CHRISTIAN ASSOCIATION OF METRO...</td>\n",
       "      <td>the young men's christian association of metro...</td>\n",
       "      <td>True</td>\n",
       "    </tr>\n",
       "  </tbody>\n",
       "</table>\n",
       "<p>872677 rows × 4 columns</p>\n",
       "</div>"
      ],
      "text/plain": [
       "                          lei  \\\n",
       "0        2138006OTCECA7V12D34   \n",
       "1        549300LG53GXF359TQ39   \n",
       "2        213800U17THE1662Z496   \n",
       "3        213800CAIVXI95XYUC30   \n",
       "4        213800VHRLPHSNZJ4314   \n",
       "...                       ...   \n",
       "1021502  549300MHNI5OF7IRT407   \n",
       "1021503  549300O9LUQH4YGOF193   \n",
       "1021504  549300XOOVZAG1ZLG344   \n",
       "1021505  549300PZDT9H1T3IQ454   \n",
       "1021506  549300I7ARULFR8OFJ12   \n",
       "\n",
       "                                                legal_name  \\\n",
       "0                          NATIONALE BORG REINSURANCE N.V.   \n",
       "1        BARING INVESTMENT FUNDS PLC - BARING ASIAN DEB...   \n",
       "2                          CUCINA ACQUISITION (UK) LIMITED   \n",
       "3                         AVELLEMY FUNDS OEIC - AVELLEMY 3   \n",
       "4                                 PATCHWORK ENERGY LIMITED   \n",
       "...                                                    ...   \n",
       "1021502                SCHRODER INSTITUTIONAL PACIFIC FUND   \n",
       "1021503                                   KELSEN GROUP A/S   \n",
       "1021504                         DURABLE TECHNOLOGIES GROUP   \n",
       "1021505                  CB-ACCENT LUX - ERASMUS BOND FUND   \n",
       "1021506  THE YOUNG MEN'S CHRISTIAN ASSOCIATION OF METRO...   \n",
       "\n",
       "                                             legal_name_sd  isEng  \n",
       "0                            nationale borg reinsurance nv   True  \n",
       "1        baring investment funds  - baring asian debt fund   True  \n",
       "2                                 cucina acquisition (uk)    True  \n",
       "3                         avellemy funds oeic - avellemy 3   True  \n",
       "4                                        patchwork energy    True  \n",
       "...                                                    ...    ...  \n",
       "1021502                schroder institutional pacific fund   True  \n",
       "1021503                                        kelsen  a/s   True  \n",
       "1021504                              durable technologies    True  \n",
       "1021505                  cb-accent lux - erasmus bond fund   True  \n",
       "1021506  the young men's christian association of metro...   True  \n",
       "\n",
       "[872677 rows x 4 columns]"
      ]
     },
     "execution_count": 97,
     "metadata": {},
     "output_type": "execute_result"
    }
   ],
   "source": [
    "legal_names_en"
   ]
  },
  {
   "cell_type": "code",
   "execution_count": 98,
   "metadata": {},
   "outputs": [],
   "source": [
    "legal_names_en.to_csv('data/legal_names_en.csv')"
   ]
  },
  {
   "cell_type": "markdown",
   "metadata": {},
   "source": [
    "There is reduction in numbers, but not too much! Rethink!\n",
    "Note: the code below is for use when there is enough compute/solution found for quicker encoding"
   ]
  },
  {
   "cell_type": "code",
   "execution_count": 99,
   "metadata": {},
   "outputs": [
    {
     "name": "stderr",
     "output_type": "stream",
     "text": [
      "0it [00:00, ?it/s]<ipython-input-99-392167b28f04>:32: DeprecationWarning: Call to deprecated `__getitem__` (Method will be removed in 4.0.0, use self.wv.__getitem__() instead).\n",
      "  vector = fast_text[word]\n",
      "2020it [00:11, 116.48it/s]/Users/luluo/anaconda3/lib/python3.8/site-packages/numpy/core/fromnumeric.py:3334: RuntimeWarning: Mean of empty slice.\n",
      "  return _methods._mean(a, axis=axis, dtype=dtype,\n",
      "/Users/luluo/anaconda3/lib/python3.8/site-packages/numpy/core/_methods.py:161: RuntimeWarning: invalid value encountered in double_scalars\n",
      "  ret = ret.dtype.type(ret / rcount)\n",
      "12005it [07:01, 28.45it/s]\n"
     ]
    },
    {
     "ename": "KeyboardInterrupt",
     "evalue": "",
     "output_type": "error",
     "traceback": [
      "\u001b[0;31m---------------------------------------------------------------------------\u001b[0m",
      "\u001b[0;31mKeyboardInterrupt\u001b[0m                         Traceback (most recent call last)",
      "\u001b[0;32m<ipython-input-99-392167b28f04>\u001b[0m in \u001b[0;36m<module>\u001b[0;34m\u001b[0m\n\u001b[1;32m     39\u001b[0m   \u001b[0mweighted_doc_vects\u001b[0m\u001b[0;34m.\u001b[0m\u001b[0mappend\u001b[0m\u001b[0;34m(\u001b[0m\u001b[0mdoc_vector_mean\u001b[0m\u001b[0;34m)\u001b[0m\u001b[0;34m\u001b[0m\u001b[0;34m\u001b[0m\u001b[0m\n\u001b[1;32m     40\u001b[0m \u001b[0;34m\u001b[0m\u001b[0m\n\u001b[0;32m---> 41\u001b[0;31m   \u001b[0mpickle\u001b[0m\u001b[0;34m.\u001b[0m\u001b[0mdump\u001b[0m\u001b[0;34m(\u001b[0m \u001b[0mweighted_doc_vects\u001b[0m\u001b[0;34m,\u001b[0m \u001b[0mopen\u001b[0m\u001b[0;34m(\u001b[0m \u001b[0;34m\"weighted_doc_vects.p\"\u001b[0m\u001b[0;34m,\u001b[0m \u001b[0;34m\"wb\"\u001b[0m \u001b[0;34m)\u001b[0m \u001b[0;34m)\u001b[0m \u001b[0;31m#save the results to disc\u001b[0m\u001b[0;34m\u001b[0m\u001b[0;34m\u001b[0m\u001b[0m\n\u001b[0m",
      "\u001b[0;31mKeyboardInterrupt\u001b[0m: "
     ]
    }
   ],
   "source": [
    "# No standardisation\n",
    "from gensim.models.fasttext import FastText\n",
    "import pickle5 as pickle\n",
    "\n",
    "fast_text = FastText(\n",
    "    sg=1, # skip gram\n",
    "    size=100, # embedding dimension\n",
    "    window=10, # 10 windows before and after to get wider context\n",
    "    min_count=5, # only consider tokens with at least n occurrences in corpus\n",
    "    negative=15, # negative subsampling: the bigger the bigger noise\n",
    "    min_n=2, # min character n-gram\n",
    "    max_n=5 # max character n-gram\n",
    ")\n",
    "\n",
    "fast_text.build_vocab(tokens)\n",
    "\n",
    "fast_text.train(\n",
    "    tokens,\n",
    "    epochs=6,\n",
    "    total_examples=fast_text.corpus_count,\n",
    "    total_words=fast_text.corpus_total_words\n",
    ")\n",
    "\n",
    "fast_text.save('model/_fasttext.model')\n",
    "fast_text = FastText.load('model/_fasttext.model')\n",
    "\n",
    "weighted_doc_vects = []\n",
    "\n",
    "for i,doc in tqdm(enumerate(tokens)):\n",
    "  doc_vector = []\n",
    "  for word in doc:\n",
    "    vector = fast_text[word]\n",
    "    weight = (bm25.idf[word] * ((bm25.k1 + 1.0)*bm25.doc_freqs[i][word])) \n",
    "    / \n",
    "    (bm25.k1 * (1.0 - bm25.b + bm25.b *(bm25.doc_len[i]/bm25.avgdl))+bm25.doc_freqs[i][word])\n",
    "    weighted_vector = vector * weight\n",
    "    doc_vector.append(weighted_vector)\n",
    "  doc_vector_mean = np.mean(doc_vector,axis=0)\n",
    "  weighted_doc_vects.append(doc_vector_mean)\n",
    "  \n",
    "  pickle.dump( weighted_doc_vects, open( \"weighted_doc_vects.p\", \"wb\" ) ) #save the results to disc"
   ]
  },
  {
   "cell_type": "code",
   "execution_count": null,
   "metadata": {},
   "outputs": [],
   "source": [
    "import nmslib\n",
    "\n",
    "data = np.vstack(weighted_doc_vects)\n",
    "\n",
    "index = nmslib.init(method='hnsw', space='cosinesimil')\n",
    "index.addDataPointBatch(data)\n",
    "index.createIndex({'post': 2}, print_progress=True)"
   ]
  },
  {
   "cell_type": "code",
   "execution_count": null,
   "metadata": {},
   "outputs": [],
   "source": [
    "input = 'Fifth Third Bancorp'.lower().split()\n",
    "\n",
    "query = [fast_text[vec] for vec in input]\n",
    "query = np.mean(query,axis=0)\n",
    "\n",
    "t0 = time.time()\n",
    "ids, distances = index.knnQuery(query, k=10)\n",
    "t1 = time.time()\n",
    "print(f'Searched {df.shape[0]} records in {round(t1-t0,4) } seconds \\n')\n",
    "for i,j in zip(ids,distances):\n",
    "  print(round(j,2))\n",
    "  print(df.text.values[i])"
   ]
  },
  {
   "cell_type": "markdown",
   "metadata": {},
   "source": [
    "### VI. Ensemble"
   ]
  },
  {
   "cell_type": "markdown",
   "metadata": {},
   "source": [
    "Since I have only finished BM25 and BM25+FuzzyWuzzy, I will perform ensemble with these two."
   ]
  },
  {
   "cell_type": "code",
   "execution_count": 115,
   "metadata": {
    "scrolled": true
   },
   "outputs": [],
   "source": [
    "from collections import Counter\n",
    "import operator\n",
    "\n",
    "inte_names['ensemble'] = None\n",
    "\n",
    "for idx, row in inte_names.iterrows():\n",
    "    bm25 = dict(row['bm25'])\n",
    "    bm25_fw = dict(row['bm25_fw'])\n",
    "    bm25_fw.update((k, v/100) for k, v in bm25_fw.items())\n",
    "    row['ensemble'] = dict(Counter(bm25) + Counter(bm25_fw))\n",
    "\n",
    "inte_names['match'] = inte_names['ensemble'].apply(lambda x: max(x.items(), key=operator.itemgetter(1))[0])"
   ]
  },
  {
   "cell_type": "code",
   "execution_count": 117,
   "metadata": {},
   "outputs": [],
   "source": [
    "inte_names.to_csv('data/inte_names.csv', index=False)"
   ]
  },
  {
   "cell_type": "code",
   "execution_count": null,
   "metadata": {},
   "outputs": [],
   "source": []
  }
 ],
 "metadata": {
  "kernelspec": {
   "display_name": "Python 3",
   "language": "python",
   "name": "python3"
  },
  "language_info": {
   "codemirror_mode": {
    "name": "ipython",
    "version": 3
   },
   "file_extension": ".py",
   "mimetype": "text/x-python",
   "name": "python",
   "nbconvert_exporter": "python",
   "pygments_lexer": "ipython3",
   "version": "3.8.5"
  }
 },
 "nbformat": 4,
 "nbformat_minor": 2
}
